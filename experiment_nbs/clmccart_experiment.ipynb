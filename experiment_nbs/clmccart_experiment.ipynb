{
 "cells": [
  {
   "cell_type": "code",
   "execution_count": 1,
   "metadata": {},
   "outputs": [],
   "source": [
    "import sys\n",
    "sys.path.append(\"..\")\n",
    "from helpers.data_ingestion.data_ingestion import DataIngestor\n",
    "from src.data_preprocessing.data_preprocessor import DataPreprocessor\n",
    "from sklearn import svm\n",
    "import pickle"
   ]
  },
  {
   "cell_type": "code",
   "execution_count": 2,
   "metadata": {},
   "outputs": [],
   "source": [
    "clf = svm.SVC(gamma='scale')"
   ]
  },
  {
   "cell_type": "code",
   "execution_count": 5,
   "metadata": {},
   "outputs": [
    {
     "name": "stdout",
     "output_type": "stream",
     "text": [
      "data\n",
      "\t Pulling iris.csv. . .\n",
      "Pull complete.\n",
      "   sepal_length  sepal_width  petal_length  petal_width species\n",
      "0           5.1          3.5           1.4          0.2  setosa\n",
      "1           4.9          3.0           1.4          0.2  setosa\n",
      "2           4.7          3.2           1.3          0.2  setosa\n",
      "3           4.6          3.1           1.5          0.2  setosa\n",
      "4           5.0          3.6           1.4          0.2  setosa\n",
      "   sepal_width  petal_length  petal_width species\n",
      "0          3.0           1.4          0.2  setosa\n",
      "1          3.2           1.3          0.2  setosa\n",
      "2          3.1           1.5          0.2  setosa\n",
      "3          3.6           1.4          0.2  setosa\n",
      "4          3.9           1.7          0.4  setosa\n"
     ]
    }
   ],
   "source": [
    "ingestor = DataIngestor('iris.csv', '../secrets.json')\n",
    "df = ingestor.get_df()\n",
    "dp = DataPreprocessor(df)\n",
    "dp.drop_columns(['sepal_length'])\n",
    "dp.remove_rows_based_on_value(column_name='sepal_width', \n",
    "                            bad_values=[3.5])\n",
    "df = dp.get_df()\n",
    "print(df.head())\n",
    "y = df['species']\n",
    "X = df.drop(columns=['species'])"
   ]
  },
  {
   "cell_type": "code",
   "execution_count": null,
   "metadata": {},
   "outputs": [],
   "source": [
    "clf.fit(X, y)  "
   ]
  },
  {
   "cell_type": "code",
   "execution_count": null,
   "metadata": {},
   "outputs": [],
   "source": [
    "# now is when you would normally save the model as a pkl file. \n",
    "# not going to do that here because this is an experiment nb\n",
    "# when we are ready to save the model, it should be exported as source code and moved into src\n",
    "# pickle.dump(clf, open(\"model.pkl\", \"wb\"))"
   ]
  },
  {
   "cell_type": "code",
   "execution_count": null,
   "metadata": {},
   "outputs": [],
   "source": []
  }
 ],
 "metadata": {
  "kernelspec": {
   "display_name": "Python 3",
   "language": "python",
   "name": "python3"
  },
  "language_info": {
   "codemirror_mode": {
    "name": "ipython",
    "version": 3
   },
   "file_extension": ".py",
   "mimetype": "text/x-python",
   "name": "python",
   "nbconvert_exporter": "python",
   "pygments_lexer": "ipython3",
   "version": "3.7.4"
  }
 },
 "nbformat": 4,
 "nbformat_minor": 2
}
